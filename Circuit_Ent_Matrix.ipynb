{
 "cells": [
  {
   "cell_type": "markdown",
   "metadata": {},
   "source": [
    "# Circuit Entanglement Matrix\n",
    "\n",
    "This block calculate the entanglement matrix and the highest values qubit pairs to design the coupling map of given a circuit (or many circuits)."
   ]
  },
  {
   "cell_type": "code",
   "execution_count": 2,
   "metadata": {},
   "outputs": [],
   "source": [
    "import numpy as np\n",
    "from qiskit import QuantumCircuit,Aer, transpile, assemble\n",
    "import matplotlib.pyplot as plt\n",
    "from py_functions.layerlization import layerlization"
   ]
  },
  {
   "cell_type": "code",
   "execution_count": 3,
   "metadata": {},
   "outputs": [],
   "source": [
    "class Coupling_Circuit:\n",
    "    \"\"\"\n",
    "        This class has all the functionalities to:\n",
    "        given a quantum circuit decompose the circuit into\n",
    "        a set of subcircuits by depth. with max depth 2,3,4..\n",
    "        N/2. N the number of total of quantum gates.\n",
    "    \"\"\"\n",
    "\n",
    "    def __init__(self, qc, shots):\n",
    "        self.qc = qc\n",
    "        self.shots = shots\n",
    "\n",
    "    #### Begin -- Supporting Functions ####\n",
    "    \"\"\"\n",
    "        This functions are for working with the dictionaries of\n",
    "        qiskit results.\n",
    "    \"\"\"\n",
    "    def string2dict(q, len):\n",
    "        st = ''\n",
    "        for i in range(0,q+1):\n",
    "            if i == 0:\n",
    "                st += '1'\n",
    "            else:\n",
    "                st += '0'\n",
    "        for i in range(0,len-q):\n",
    "            st = '0'+st\n",
    "        return st\n",
    "\n",
    "    def string2dict_two(q1 ,q2, len):\n",
    "        st = ''\n",
    "        for i in range(0, len):\n",
    "            if i == q1 or i == q2:\n",
    "                st = '1' + st\n",
    "            else:\n",
    "                st = '0' + st\n",
    "        return st\n",
    "\n",
    "    def string2dict_zero(len):\n",
    "        st = ''\n",
    "        for i in range(0, len):\n",
    "            st = '0' + st\n",
    "        return st\n",
    "    #### Finish -- Supporting Functions ####\n",
    "    \n",
    "    def general_entanglement(qc, \n",
    "                             qubit_m1, \n",
    "                             qubit_m2, \n",
    "                             shots : int == 1024):\n",
    "        \"\"\"\n",
    "            Calculate the entanglement of a given pair of qubits.\n",
    "            Using the concurrence the circuit is simulate with a\n",
    "            perfect coupling.\n",
    "            Input:\n",
    "                qc: Quantum circuit.\n",
    "                qubit_m1: first qubit to measure.\n",
    "                qubit_m2: second qubit to measure.\n",
    "                shots: number of shots.\n",
    "            Output:\n",
    "                Concurrence.\n",
    "        \"\"\"\n",
    "\n",
    "        ent = 0\n",
    "        qc_aux = qc.copy()\n",
    "\n",
    "        qc_aux.measure([qubit_m1,qubit_m2],[qubit_m1,qubit_m2])\n",
    "        Simulation = Aer.get_backend('qasm_simulator')\n",
    "        Quantum_Transpiler = transpile(qc_aux,Simulation)\n",
    "        Quantum_Obj = assemble(Quantum_Transpiler, shots=shots)\n",
    "        Result = Simulation.run(Quantum_Obj).result()\n",
    "\n",
    "        values_dict = Result.get_counts()\n",
    "\n",
    "        value_00 = Coupling_Circuit.string2dict_zero(qc_aux.num_qubits)\n",
    "        value_01 = Coupling_Circuit.string2dict(qubit_m1, \n",
    "                                                qc_aux.num_qubits-1)\n",
    "        value_10 = Coupling_Circuit.string2dict(qubit_m2, \n",
    "                                                qc_aux.num_qubits-1)\n",
    "        value_11 = Coupling_Circuit.string2dict_two(qubit_m1, \n",
    "                                                    qubit_m2, \n",
    "                                                    qc_aux.num_qubits)\n",
    "\n",
    "        values_dict.setdefault(value_00, 0)\n",
    "        values_dict.setdefault(value_01, 0)\n",
    "        values_dict.setdefault(value_10, 0)\n",
    "        values_dict.setdefault(value_11, 0)\n",
    "\n",
    "        v_00 = np.sqrt(values_dict[value_00]/shots)\n",
    "        v_01 = np.sqrt(values_dict[value_01]/shots)\n",
    "        v_10 = np.sqrt(values_dict[value_10]/shots)\n",
    "        v_11 = np.sqrt(values_dict[value_11]/shots)\n",
    "\n",
    "        ent = 2*np.abs(v_11*v_00-v_01*v_10)\n",
    "\n",
    "        return ent\n",
    "    \n",
    "    def ent_matrix(qc, shots):\n",
    "        \"\"\"\n",
    "            This funciton calculates the entanglement\n",
    "            matrix of a given circuit.\n",
    "            Input:\n",
    "                qc: quantum circuit.\n",
    "                shots: number of shots.\n",
    "            Output:\n",
    "                new_matrix: entanglement matrix.\n",
    "        \"\"\"\n",
    "        matrix = []\n",
    "\n",
    "        for i in range(0, qc.num_qubits):\n",
    "            for j in range(0, qc.num_qubits):\n",
    "                if i == j:\n",
    "                    matrix.append(0)\n",
    "                else:\n",
    "                    matrix.append(Coupling_Circuit.general_entanglement(qc,\n",
    "                                                                        i,\n",
    "                                                                        j, \n",
    "                                                                        shots))\n",
    "\n",
    "        new_matrix = np.reshape(matrix, (qc.num_qubits, qc.num_qubits))\n",
    "\n",
    "        return new_matrix\n",
    "    \n",
    "    def plot_ent_matrix(matrix : list):\n",
    "        \"\"\"\n",
    "            Plot the matrix and export the png of the entanglement\n",
    "            matrix.\n",
    "            Input:\n",
    "                matrix : list.\n",
    "            Output:\n",
    "                export png file.\n",
    "        \"\"\"\n",
    "\n",
    "        fig, ax = plt.subplots()\n",
    "        im = ax.imshow(matrix)\n",
    "        ax.set_title(\"Entanglement Matrix Representation\")\n",
    "        ax.set_xlabel(\"Qubit\")\n",
    "        ax.set_ylabel(\"Qubit\")\n",
    "        fig.colorbar(im)\n",
    "        for (j,i),label in np.ndenumerate(matrix):\n",
    "            plt.text(i,j,\"%.2f\" % label,ha='center',va='center')\n",
    "        \n",
    "        fig.savefig(\"ent_matrix\")\n",
    "\n",
    "    def circuit_ent_matrices(subcircuits : list, shots : int == 1024):\n",
    "        \"\"\"\n",
    "            This function calculate the entanglement over all the \n",
    "            subcircuits.\n",
    "            Input:\n",
    "                subcircuits :  list of quantum circuits.\n",
    "                shots :  shots for the quantum circuit.\n",
    "            Output:\n",
    "                total_matrix: entanglement matrix of a given\n",
    "                subcircuit.\n",
    "        \"\"\"\n",
    "        total_matrix = 0\n",
    "        len_subcircuits = len(subcircuits)\n",
    "        for i in subcircuits:\n",
    "            total_matrix += Coupling_Circuit.ent_matrix(i, \n",
    "                                                        shots)\n",
    "        total_matrix = total_matrix/len_subcircuits\n",
    "\n",
    "        return total_matrix\n",
    "\n",
    "    def ent_matrix_final(qc, shots):\n",
    "        \"\"\"\n",
    "            !!!Main function!!!\n",
    "            This function calls leyerization to create all the\n",
    "            subcircuit and calculate the entanglement matrix of\n",
    "            each of them. After that, create the total matrix.\n",
    "            That takes into account the entanglement of all the\n",
    "            subcircuits.\n",
    "            Input:\n",
    "                qc: quantum circuit.\n",
    "                shots: shots for the quantum circuit.\n",
    "            Output:\n",
    "                total_matrix: matrix that takes into the account\n",
    "                all the ent matrix of each subcircuit.\n",
    "\n",
    "        \"\"\"\n",
    "        total_matrix = 0\n",
    "        max_value = int(len(qc.data)/2+1)\n",
    "        for i in range(2,max_value):\n",
    "            subcircuits = layerlization(qc, i)\n",
    "            total_matrix = total_matrix + \\\n",
    "                        Coupling_Circuit.circuit_ent_matrices(subcircuits, shots)\n",
    "\n",
    "        total_matrix = total_matrix/(max_value-2)\n",
    "\n",
    "        return total_matrix"
   ]
  },
  {
   "cell_type": "markdown",
   "metadata": {},
   "source": [
    "# Example\n",
    "\n",
    "Let's create a quantum circuit and extract the most important qubits based on the entanglement between the sub circuits.\n",
    "\n",
    "### Quantum Circuit 1:"
   ]
  },
  {
   "cell_type": "code",
   "execution_count": 11,
   "metadata": {},
   "outputs": [
    {
     "data": {
      "image/png": "[encoded data removed]",
      "text/plain": [
       "<Figure size 507.997x445.48 with 1 Axes>"
      ]
     },
     "execution_count": 11,
     "metadata": {},
     "output_type": "execute_result"
    }
   ],
   "source": [
    "qc = QuantumCircuit(6,6)\n",
    "qc.h([0,1,2,3])\n",
    "qc.ccx(0,3,4)\n",
    "qc.cx(0,3)\n",
    "qc.ccx(2,4,5)\n",
    "qc.cx(2,4)\n",
    "qc.ccx(1,4,5)\n",
    "qc.cx(1,4)\n",
    "qc.draw('mpl')"
   ]
  },
  {
   "cell_type": "code",
   "execution_count": 12,
   "metadata": {},
   "outputs": [],
   "source": [
    "## Calculate the entanglement matrix: (As simple as just one line)\n",
    "matrix = Coupling_Circuit.ent_matrix_final(qc, 1024)"
   ]
  },
  {
   "cell_type": "code",
   "execution_count": 13,
   "metadata": {},
   "outputs": [
    {
     "data": {
      "image/png": "[encoded data removed]",
      "text/plain": [
       "<Figure size 432x288 with 2 Axes>"
      ]
     },
     "metadata": {
      "needs_background": "light"
     },
     "output_type": "display_data"
    }
   ],
   "source": [
    "## Plot and export the matrix!\n",
    "Coupling_Circuit.plot_ent_matrix(matrix)"
   ]
  },
  {
   "cell_type": "markdown",
   "metadata": {},
   "source": [
    "As you can see from the image above. The most important qubits (in terms of connections) are the connection between the qubit 5 and 2; and 5 and 4.  \n",
    "In other terms, the coupling map must be prioritize the coupling [5,2] and [5,4].\n"
   ]
  },
  {
   "cell_type": "code",
   "execution_count": null,
   "metadata": {},
   "outputs": [],
   "source": []
  },
  {
   "cell_type": "code",
   "execution_count": 33,
   "metadata": {},
   "outputs": [],
   "source": []
  },
  {
   "cell_type": "code",
   "execution_count": 34,
   "metadata": {},
   "outputs": [],
   "source": []
  },
  {
   "cell_type": "markdown",
   "metadata": {},
   "source": [
    "# Example"
   ]
  },
  {
   "cell_type": "code",
   "execution_count": 9,
   "metadata": {},
   "outputs": [],
   "source": [
    "def top_cinco_valores(matriz):\n",
    "    # Aplanar la matriz y almacenar el valor con su posición\n",
    "    valores_con_posiciones = [(valor, (i, j)) for i, fila in enumerate(matriz) for j, valor in enumerate(fila)]\n",
    "\n",
    "    # Ordenar los valores (de mayor a menor)\n",
    "    valores_con_posiciones.sort(key=lambda x: x[0], reverse=True)\n",
    "\n",
    "    # Seleccionar los primeros cinco elementos\n",
    "    primeros_cinco = valores_con_posiciones[:5]\n",
    "\n",
    "    # Extraer solo las posiciones de estos elementos\n",
    "    posiciones_primeros_cinco = [pos for _, pos in primeros_cinco]\n",
    "\n",
    "    return posiciones_primeros_cinco"
   ]
  },
  {
   "cell_type": "code",
   "execution_count": 10,
   "metadata": {},
   "outputs": [
    {
     "data": {
      "text/plain": [
       "[(5, 2), (4, 5), (2, 5), (5, 4), (5, 0)]"
      ]
     },
     "execution_count": 10,
     "metadata": {},
     "output_type": "execute_result"
    }
   ],
   "source": [
    "top_cinco_valores(matrix)"
   ]
  },
  {
   "cell_type": "code",
   "execution_count": null,
   "metadata": {},
   "outputs": [],
   "source": []
  }
 ],
 "metadata": {
  "kernelspec": {
   "display_name": "Python 3",
   "language": "python",
   "name": "python3"
  },
  "language_info": {
   "codemirror_mode": {
    "name": "ipython",
    "version": 3
   },
   "file_extension": ".py",
   "mimetype": "text/x-python",
   "name": "python",
   "nbconvert_exporter": "python",
   "pygments_lexer": "ipython3",
   "version": "3.9.5"
  }
 },
 "nbformat": 4,
 "nbformat_minor": 2
}
