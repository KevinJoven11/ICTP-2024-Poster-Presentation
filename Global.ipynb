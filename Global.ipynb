{
 "cells": [
  {
   "cell_type": "code",
   "execution_count": 1,
   "metadata": {},
   "outputs": [],
   "source": [
    "## Import the required libraries\n",
    "from qiskit import QuantumCircuit, Aer, transpile, assemble\n",
    "from qiskit.visualization import plot_histogram, plot_coupling_map\n",
    "import numpy as np\n",
    "import matplotlib.pyplot as plt"
   ]
  },
  {
   "cell_type": "code",
   "execution_count": 2,
   "metadata": {},
   "outputs": [],
   "source": [
    "# Some support functions to calculate the entanglement matrix.\n",
    "\n",
    "def string2dict(q, len):\n",
    "    st = ''\n",
    "    for i in range(0,q+1):\n",
    "        if i == 0:\n",
    "            st += '1'\n",
    "        else:\n",
    "            st += '0'\n",
    "    for i in range(0,len-q):\n",
    "        st = '0'+st\n",
    "    return st\n",
    "\n",
    "def string2dict_two(q1 ,q2, len):\n",
    "    st = ''\n",
    "    for i in range(0, len):\n",
    "        if i == q1 or i == q2:\n",
    "            st = '1' + st\n",
    "        else:\n",
    "            st = '0' + st\n",
    "    return st\n",
    "\n",
    "def string2dict_zero(len):\n",
    "    st = ''\n",
    "    for i in range(0, len):\n",
    "        st = '0' + st\n",
    "    return st"
   ]
  },
  {
   "cell_type": "code",
   "execution_count": 3,
   "metadata": {},
   "outputs": [],
   "source": [
    "# Function to calculate the entanglement matrix.\n",
    "\n",
    "def general_entanglement(qc, qubit_m1, qubit_m2, shots):\n",
    "\n",
    "    ent = 0\n",
    "\n",
    "    qc_aux = qc.copy()\n",
    "\n",
    "    qc_aux.measure([qubit_m1,qubit_m2],[qubit_m1,qubit_m2])\n",
    "    Simulation = Aer.get_backend('qasm_simulator')\n",
    "    Quantum_Transpiler = transpile(qc_aux,Simulation, coupling_map=[[0,1],[1,2],[2,3],[3,4],[4,5]])\n",
    "    Quantum_Obj = assemble(Quantum_Transpiler, shots=shots)\n",
    "    Result = Simulation.run(Quantum_Obj).result()\n",
    "\n",
    "    values_dict = Result.get_counts()\n",
    "\n",
    "    value_00 = string2dict_zero(qc_aux.num_qubits)\n",
    "    value_01 = string2dict(qubit_m1, qc_aux.num_qubits-1)\n",
    "    value_10 = string2dict(qubit_m2, qc_aux.num_qubits-1)\n",
    "    value_11 = string2dict_two(qubit_m1, qubit_m2, qc_aux.num_qubits)\n",
    "\n",
    "    values_dict.setdefault(value_00, 0)\n",
    "    values_dict.setdefault(value_01, 0)\n",
    "    values_dict.setdefault(value_10, 0)\n",
    "    values_dict.setdefault(value_11, 0)\n",
    "\n",
    "    v_00 = np.sqrt(values_dict[value_00]/shots)\n",
    "    v_01 = np.sqrt(values_dict[value_01]/shots)\n",
    "    v_10 = np.sqrt(values_dict[value_10]/shots)\n",
    "    v_11 = np.sqrt(values_dict[value_11]/shots)\n",
    "\n",
    "    ent = 2*np.abs(v_11*v_00-v_01*v_10)\n",
    "\n",
    "    return ent"
   ]
  },
  {
   "cell_type": "code",
   "execution_count": 4,
   "metadata": {},
   "outputs": [],
   "source": [
    "# Plot the entanglement matrix.\n",
    "\n",
    "def ent_matrix(qc, shots):\n",
    "    matrix = []\n",
    "\n",
    "    for i in range(0, qc.num_qubits):\n",
    "        for j in range(0, qc.num_qubits):\n",
    "            if i == j:\n",
    "                matrix.append(1)\n",
    "            else:\n",
    "                matrix.append(general_entanglement(qc,i,j, shots))\n",
    "\n",
    "    new_matrix = np.reshape(matrix, (qc.num_qubits, qc.num_qubits))\n",
    "\n",
    "    return new_matrix"
   ]
  },
  {
   "cell_type": "code",
   "execution_count": 5,
   "metadata": {},
   "outputs": [],
   "source": [
    "# Support function that calculated the error between the probability distributions\n",
    "\n",
    "def error(real_dict, test_dict, shots):\n",
    "    err = 0\n",
    "\n",
    "    real_list = list(real_dict.keys())\n",
    "    test_list = list(test_dict.keys())\n",
    "\n",
    "    for i in range(0, len(real_list)):\n",
    "\n",
    "        test_dict.setdefault(real_list[i], 0)\n",
    "        real_dict.setdefault(test_list[i], 0)\n",
    "    \n",
    "    real_list = list(real_dict.keys())\n",
    "    test_list = list(test_dict.keys())\n",
    "\n",
    "    for k in range(0, len(real_list)):\n",
    "        \n",
    "        err += np.abs(test_dict[real_list[k]]-real_dict[real_list[k]])\n",
    "    \n",
    "    return err/shots"
   ]
  },
  {
   "cell_type": "code",
   "execution_count": 6,
   "metadata": {},
   "outputs": [
    {
     "name": "stderr",
     "output_type": "stream",
     "text": [
      "C:\\Users\\bionano\\AppData\\Local\\Packages\\PythonSoftwareFoundation.Python.3.9_qbz5n2kfra8p0\\LocalCache\\local-packages\\Python39\\site-packages\\qiskit\\visualization\\circuit\\matplotlib.py:266: FutureWarning: The default matplotlib drawer scheme will be changed to \"iqp\" in a following release. To silence this warning, specify the current default explicitly as style=\"clifford\", or the new default as style=\"iqp\".\n",
      "  self._style, def_font_ratio = load_style(self._style)\n"
     ]
    },
    {
     "data": {
      "image/png": "[encoded data removed]",
      "text/plain": [
       "<Figure size 507.997x445.48 with 1 Axes>"
      ]
     },
     "execution_count": 6,
     "metadata": {},
     "output_type": "execute_result"
    }
   ],
   "source": [
    "## Circuit definition just a simple one.\n",
    "## For more information about this circuit, this is the Quantum Full Adder (QFA) for a two qubit system.\n",
    "## The perfect case.\n",
    "from qiskit.transpiler import PassManager\n",
    "from qiskit.transpiler.passes import Collect2qBlocks, ConsolidateBlocks\n",
    "\n",
    "\n",
    "qc = QuantumCircuit(6,6)\n",
    "\n",
    "qc.h([0,1,2,3])\n",
    "qc.ccx(0,3,4)\n",
    "qc.cx(0,3)\n",
    "qc.ccx(2,4,5)\n",
    "qc.cx(2,4)\n",
    "qc.ccx(1,4,5)\n",
    "qc.cx(1,4)\n",
    "\n",
    "qc.draw('mpl')\n"
   ]
  },
  {
   "cell_type": "code",
   "execution_count": 7,
   "metadata": {},
   "outputs": [
    {
     "name": "stderr",
     "output_type": "stream",
     "text": [
      "C:\\Users\\bionano\\AppData\\Local\\Temp\\ipykernel_2988\\55769324.py:13: DeprecationWarning: Using a qobj for run() is deprecated as of qiskit-aer 0.9.0 and will be removed no sooner than 3 months from that release date. Transpiled circuits should now be passed directly using `backend.run(circuits, **run_options).\n",
      "  Result = Simulation.run(Quantum_Obj).result()\n"
     ]
    },
    {
     "data": {
      "image/png": "[encoded data removed]",
      "text/plain": [
       "<Figure size 432x288 with 2 Axes>"
      ]
     },
     "metadata": {
      "needs_background": "light"
     },
     "output_type": "display_data"
    }
   ],
   "source": [
    "# Calcualte the entanglement matrix for the previous circuit.\n",
    "\n",
    "fig, ax = plt.subplots()\n",
    "\n",
    "matrix = ent_matrix(qc, 1000)\n",
    "im = ax.imshow(matrix)\n",
    "ax.set_title(\"Entanglement Matrix Representation\")\n",
    "ax.set_xlabel(\"Qubit\")\n",
    "ax.set_ylabel(\"Qubit\")\n",
    "fig.colorbar(im)\n",
    "\n",
    "for (j,i),label in np.ndenumerate(matrix):\n",
    "    plt.text(i,j,\"%.2f\" % label,ha='center',va='center')\n",
    "    #plt.text(i,j,label,ha='center',va='center')\n",
    "\n",
    "plt.show()"
   ]
  },
  {
   "cell_type": "code",
   "execution_count": null,
   "metadata": {},
   "outputs": [],
   "source": []
  },
  {
   "cell_type": "code",
   "execution_count": null,
   "metadata": {},
   "outputs": [],
   "source": []
  },
  {
   "cell_type": "code",
   "execution_count": null,
   "metadata": {},
   "outputs": [],
   "source": []
  }
 ],
 "metadata": {
  "kernelspec": {
   "display_name": "Python 3",
   "language": "python",
   "name": "python3"
  },
  "language_info": {
   "codemirror_mode": {
    "name": "ipython",
    "version": 3
   },
   "file_extension": ".py",
   "mimetype": "text/x-python",
   "name": "python",
   "nbconvert_exporter": "python",
   "pygments_lexer": "ipython3",
   "version": "3.9.13"
  }
 },
 "nbformat": 4,
 "nbformat_minor": 2
}
