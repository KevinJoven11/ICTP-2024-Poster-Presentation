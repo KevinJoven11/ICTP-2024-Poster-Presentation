{
 "cells": [
  {
   "attachments": {
    "image.png": {
     "image/png": "[encoded data removed]"
    }
   },
   "cell_type": "markdown",
   "metadata": {},
   "source": [
    "## Layerization Block\n",
    "\n",
    "The main idea of this block is, given a quantum circuit divide the circuit into subcircuits that has equal depth in order to characterize the entanglement of the subcircuits.  \n",
    "We dont need the one layer (depth 1) subcircuit due to we cannot create entanglement with this layer.\n",
    "\n",
    "![image.png](attachment:image.png)"
   ]
  },
  {
   "cell_type": "code",
   "execution_count": 9,
   "metadata": {},
   "outputs": [],
   "source": [
    "from qiskit import QuantumCircuit\n",
    "import qiskit"
   ]
  },
  {
   "cell_type": "code",
   "execution_count": 10,
   "metadata": {},
   "outputs": [],
   "source": [
    "def layerlization(qc : qiskit.QuantumCircuit, depth : int):\n",
    "    \"\"\"\n",
    "    function that divide the quantum circuit into different circuits\n",
    "    given the depth requirements.\n",
    "\n",
    "    Input:\n",
    "    qc : QuantumCircuit.\n",
    "    depth: depth requirements.\n",
    "\n",
    "    Output:\n",
    "    circuits : list; list with all the subcircuits.\n",
    "    \n",
    "    \"\"\"\n",
    "\n",
    "    # Define the list to storage all the subcircuits.\n",
    "    circuits = []\n",
    "\n",
    "    qubit_num = qc.num_qubits\n",
    "    # Define some auxiliars quantum circuits.\n",
    "    qc_aux = QuantumCircuit(qubit_num, qubit_num)\n",
    "    qc_add = QuantumCircuit(qubit_num, qubit_num)\n",
    "\n",
    "    # Define the current layer.\n",
    "    layer = 1\n",
    "    # Define the iteration.\n",
    "    iter = 0\n",
    "\n",
    "    for gate in qc.data:\n",
    "\n",
    "\n",
    "        iter += 1 \n",
    "        # Add the quantum gate to the axiliar circuit.\n",
    "        qc_add.append(gate)\n",
    "\n",
    "        # Calculate the current depth to storage the information.\n",
    "        # or to know about the last quantum gate to add.\n",
    "        if qc_add.depth() == layer+depth or iter==len(qc.data):\n",
    "            \n",
    "            # Check if there is the last gate.\n",
    "            if iter==len(qc.data) and depth != 1: \n",
    "                qc_aux.append(gate)\n",
    "\n",
    "            # Add the quantum circuit.\n",
    "            circuits.append(qc_aux)\n",
    "            qc_aux = QuantumCircuit(qubit_num, qubit_num)\n",
    "            qc_aux.append(gate)\n",
    "            layer = layer + depth\n",
    "\n",
    "            if(depth == 1 and iter==len(qc.data)):\n",
    "                qc_aux = QuantumCircuit(qubit_num ,qubit_num)\n",
    "                qc_aux.append(gate)\n",
    "                circuits.append(qc_aux)\n",
    "        else:\n",
    "            qc_aux.append(gate)\n",
    "\n",
    "    return circuits"
   ]
  },
  {
   "cell_type": "markdown",
   "metadata": {},
   "source": [
    "# Examples\n",
    "\n",
    "## Quantum circuit for 2 layers:"
   ]
  },
  {
   "cell_type": "code",
   "execution_count": 13,
   "metadata": {},
   "outputs": [
    {
     "data": {
      "text/html": [
       "<pre style=\"word-wrap: normal;white-space: pre;background: #fff0;line-height: 1.1;font-family: &quot;Courier New&quot;,Courier,monospace\">     ┌───┐                              \n",
       "q_0: ┤ H ├──■────■──────────────────────\n",
       "     ├───┤  │    │                      \n",
       "q_1: ┤ H ├──┼────┼──────────────■────■──\n",
       "     ├───┤  │    │              │    │  \n",
       "q_2: ┤ H ├──┼────┼────■────■────┼────┼──\n",
       "     ├───┤  │  ┌─┴─┐  │    │    │    │  \n",
       "q_3: ┤ H ├──■──┤ X ├──┼────┼────┼────┼──\n",
       "     └───┘┌─┴─┐└───┘  │  ┌─┴─┐  │  ┌─┴─┐\n",
       "q_4: ─────┤ X ├───────■──┤ X ├──■──┤ X ├\n",
       "          └───┘     ┌─┴─┐└───┘┌─┴─┐└───┘\n",
       "q_5: ───────────────┤ X ├─────┤ X ├─────\n",
       "                    └───┘     └───┘     \n",
       "c: 6/═══════════════════════════════════\n",
       "                                        </pre>"
      ],
      "text/plain": [
       "     ┌───┐                              \n",
       "q_0: ┤ H ├──■────■──────────────────────\n",
       "     ├───┤  │    │                      \n",
       "q_1: ┤ H ├──┼────┼──────────────■────■──\n",
       "     ├───┤  │    │              │    │  \n",
       "q_2: ┤ H ├──┼────┼────■────■────┼────┼──\n",
       "     ├───┤  │  ┌─┴─┐  │    │    │    │  \n",
       "q_3: ┤ H ├──■──┤ X ├──┼────┼────┼────┼──\n",
       "     └───┘┌─┴─┐└───┘  │  ┌─┴─┐  │  ┌─┴─┐\n",
       "q_4: ─────┤ X ├───────■──┤ X ├──■──┤ X ├\n",
       "          └───┘     ┌─┴─┐└───┘┌─┴─┐└───┘\n",
       "q_5: ───────────────┤ X ├─────┤ X ├─────\n",
       "                    └───┘     └───┘     \n",
       "c: 6/═══════════════════════════════════\n",
       "                                        "
      ]
     },
     "execution_count": 13,
     "metadata": {},
     "output_type": "execute_result"
    }
   ],
   "source": [
    "qc = QuantumCircuit(6,6)\n",
    "qc.h([0,1,2,3])\n",
    "qc.ccx(0,3,4)\n",
    "qc.cx(0,3)\n",
    "qc.ccx(2,4,5)\n",
    "qc.cx(2,4)\n",
    "qc.ccx(1,4,5)\n",
    "qc.cx(1,4)\n",
    "qc.draw()"
   ]
  },
  {
   "cell_type": "code",
   "execution_count": 14,
   "metadata": {},
   "outputs": [],
   "source": [
    "circuits_2layer = layerlization(qc, 2)"
   ]
  },
  {
   "cell_type": "code",
   "execution_count": 15,
   "metadata": {},
   "outputs": [
    {
     "data": {
      "text/html": [
       "<pre style=\"word-wrap: normal;white-space: pre;background: #fff0;line-height: 1.1;font-family: &quot;Courier New&quot;,Courier,monospace\">     ┌───┐     \n",
       "q_0: ┤ H ├──■──\n",
       "     ├───┤  │  \n",
       "q_1: ┤ H ├──┼──\n",
       "     ├───┤  │  \n",
       "q_2: ┤ H ├──┼──\n",
       "     ├───┤  │  \n",
       "q_3: ┤ H ├──■──\n",
       "     └───┘┌─┴─┐\n",
       "q_4: ─────┤ X ├\n",
       "          └───┘\n",
       "q_5: ──────────\n",
       "               \n",
       "c: 6/══════════\n",
       "               </pre>"
      ],
      "text/plain": [
       "     ┌───┐     \n",
       "q_0: ┤ H ├──■──\n",
       "     ├───┤  │  \n",
       "q_1: ┤ H ├──┼──\n",
       "     ├───┤  │  \n",
       "q_2: ┤ H ├──┼──\n",
       "     ├───┤  │  \n",
       "q_3: ┤ H ├──■──\n",
       "     └───┘┌─┴─┐\n",
       "q_4: ─────┤ X ├\n",
       "          └───┘\n",
       "q_5: ──────────\n",
       "               \n",
       "c: 6/══════════\n",
       "               "
      ]
     },
     "execution_count": 15,
     "metadata": {},
     "output_type": "execute_result"
    }
   ],
   "source": [
    "circuits_2layer[0].draw()"
   ]
  },
  {
   "cell_type": "code",
   "execution_count": 16,
   "metadata": {},
   "outputs": [
    {
     "data": {
      "text/html": [
       "<pre style=\"word-wrap: normal;white-space: pre;background: #fff0;line-height: 1.1;font-family: &quot;Courier New&quot;,Courier,monospace\">                    \n",
       "q_0: ──■────────────\n",
       "       │            \n",
       "q_1: ──┼────────────\n",
       "       │            \n",
       "q_2: ──┼────■────■──\n",
       "     ┌─┴─┐  │    │  \n",
       "q_3: ┤ X ├──┼────┼──\n",
       "     └───┘  │  ┌─┴─┐\n",
       "q_4: ───────■──┤ X ├\n",
       "          ┌─┴─┐└───┘\n",
       "q_5: ─────┤ X ├─────\n",
       "          └───┘     \n",
       "c: 6/═══════════════\n",
       "                    </pre>"
      ],
      "text/plain": [
       "                    \n",
       "q_0: ──■────────────\n",
       "       │            \n",
       "q_1: ──┼────────────\n",
       "       │            \n",
       "q_2: ──┼────■────■──\n",
       "     ┌─┴─┐  │    │  \n",
       "q_3: ┤ X ├──┼────┼──\n",
       "     └───┘  │  ┌─┴─┐\n",
       "q_4: ───────■──┤ X ├\n",
       "          ┌─┴─┐└───┘\n",
       "q_5: ─────┤ X ├─────\n",
       "          └───┘     \n",
       "c: 6/═══════════════\n",
       "                    "
      ]
     },
     "execution_count": 16,
     "metadata": {},
     "output_type": "execute_result"
    }
   ],
   "source": [
    "circuits_2layer[1].draw()"
   ]
  },
  {
   "cell_type": "code",
   "execution_count": 17,
   "metadata": {},
   "outputs": [
    {
     "data": {
      "text/html": [
       "<pre style=\"word-wrap: normal;white-space: pre;background: #fff0;line-height: 1.1;font-family: &quot;Courier New&quot;,Courier,monospace\">               \n",
       "q_0: ──────────\n",
       "               \n",
       "q_1: ──■────■──\n",
       "       │    │  \n",
       "q_2: ──┼────┼──\n",
       "       │    │  \n",
       "q_3: ──┼────┼──\n",
       "       │  ┌─┴─┐\n",
       "q_4: ──■──┤ X ├\n",
       "     ┌─┴─┐└───┘\n",
       "q_5: ┤ X ├─────\n",
       "     └───┘     \n",
       "c: 6/══════════\n",
       "               </pre>"
      ],
      "text/plain": [
       "               \n",
       "q_0: ──────────\n",
       "               \n",
       "q_1: ──■────■──\n",
       "       │    │  \n",
       "q_2: ──┼────┼──\n",
       "       │    │  \n",
       "q_3: ──┼────┼──\n",
       "       │  ┌─┴─┐\n",
       "q_4: ──■──┤ X ├\n",
       "     ┌─┴─┐└───┘\n",
       "q_5: ┤ X ├─────\n",
       "     └───┘     \n",
       "c: 6/══════════\n",
       "               "
      ]
     },
     "execution_count": 17,
     "metadata": {},
     "output_type": "execute_result"
    }
   ],
   "source": [
    "circuits_2layer[2].draw()"
   ]
  },
  {
   "cell_type": "markdown",
   "metadata": {},
   "source": [
    "## Quantum circuit for 4 layers:"
   ]
  },
  {
   "cell_type": "code",
   "execution_count": 18,
   "metadata": {},
   "outputs": [],
   "source": [
    "circuits_4layer = layerlization(qc, 4)"
   ]
  },
  {
   "cell_type": "code",
   "execution_count": 19,
   "metadata": {},
   "outputs": [
    {
     "data": {
      "text/html": [
       "<pre style=\"word-wrap: normal;white-space: pre;background: #fff0;line-height: 1.1;font-family: &quot;Courier New&quot;,Courier,monospace\">     ┌───┐                    \n",
       "q_0: ┤ H ├──■────■────────────\n",
       "     ├───┤  │    │            \n",
       "q_1: ┤ H ├──┼────┼────────────\n",
       "     ├───┤  │    │            \n",
       "q_2: ┤ H ├──┼────┼────■────■──\n",
       "     ├───┤  │  ┌─┴─┐  │    │  \n",
       "q_3: ┤ H ├──■──┤ X ├──┼────┼──\n",
       "     └───┘┌─┴─┐└───┘  │  ┌─┴─┐\n",
       "q_4: ─────┤ X ├───────■──┤ X ├\n",
       "          └───┘     ┌─┴─┐└───┘\n",
       "q_5: ───────────────┤ X ├─────\n",
       "                    └───┘     \n",
       "c: 6/═════════════════════════\n",
       "                              </pre>"
      ],
      "text/plain": [
       "     ┌───┐                    \n",
       "q_0: ┤ H ├──■────■────────────\n",
       "     ├───┤  │    │            \n",
       "q_1: ┤ H ├──┼────┼────────────\n",
       "     ├───┤  │    │            \n",
       "q_2: ┤ H ├──┼────┼────■────■──\n",
       "     ├───┤  │  ┌─┴─┐  │    │  \n",
       "q_3: ┤ H ├──■──┤ X ├──┼────┼──\n",
       "     └───┘┌─┴─┐└───┘  │  ┌─┴─┐\n",
       "q_4: ─────┤ X ├───────■──┤ X ├\n",
       "          └───┘     ┌─┴─┐└───┘\n",
       "q_5: ───────────────┤ X ├─────\n",
       "                    └───┘     \n",
       "c: 6/═════════════════════════\n",
       "                              "
      ]
     },
     "execution_count": 19,
     "metadata": {},
     "output_type": "execute_result"
    }
   ],
   "source": [
    "circuits_4layer[0].draw()"
   ]
  },
  {
   "cell_type": "code",
   "execution_count": 20,
   "metadata": {},
   "outputs": [
    {
     "data": {
      "text/html": [
       "<pre style=\"word-wrap: normal;white-space: pre;background: #fff0;line-height: 1.1;font-family: &quot;Courier New&quot;,Courier,monospace\">               \n",
       "q_0: ──────────\n",
       "               \n",
       "q_1: ──■────■──\n",
       "       │    │  \n",
       "q_2: ──┼────┼──\n",
       "       │    │  \n",
       "q_3: ──┼────┼──\n",
       "       │  ┌─┴─┐\n",
       "q_4: ──■──┤ X ├\n",
       "     ┌─┴─┐└───┘\n",
       "q_5: ┤ X ├─────\n",
       "     └───┘     \n",
       "c: 6/══════════\n",
       "               </pre>"
      ],
      "text/plain": [
       "               \n",
       "q_0: ──────────\n",
       "               \n",
       "q_1: ──■────■──\n",
       "       │    │  \n",
       "q_2: ──┼────┼──\n",
       "       │    │  \n",
       "q_3: ──┼────┼──\n",
       "       │  ┌─┴─┐\n",
       "q_4: ──■──┤ X ├\n",
       "     ┌─┴─┐└───┘\n",
       "q_5: ┤ X ├─────\n",
       "     └───┘     \n",
       "c: 6/══════════\n",
       "               "
      ]
     },
     "execution_count": 20,
     "metadata": {},
     "output_type": "execute_result"
    }
   ],
   "source": [
    "circuits_4layer[1].draw()"
   ]
  },
  {
   "cell_type": "code",
   "execution_count": null,
   "metadata": {},
   "outputs": [],
   "source": []
  }
 ],
 "metadata": {
  "kernelspec": {
   "display_name": "Python 3",
   "language": "python",
   "name": "python3"
  },
  "language_info": {
   "codemirror_mode": {
    "name": "ipython",
    "version": 3
   },
   "file_extension": ".py",
   "mimetype": "text/x-python",
   "name": "python",
   "nbconvert_exporter": "python",
   "pygments_lexer": "ipython3",
   "version": "3.9.13"
  }
 },
 "nbformat": 4,
 "nbformat_minor": 2
}
