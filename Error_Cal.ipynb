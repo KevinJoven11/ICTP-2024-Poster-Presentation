{
 "cells": [
  {
   "cell_type": "code",
   "execution_count": 1,
   "metadata": {},
   "outputs": [],
   "source": [
    "import numpy as np"
   ]
  },
  {
   "cell_type": "code",
   "execution_count": 2,
   "metadata": {},
   "outputs": [],
   "source": [
    "def error(real_dict : dict, test_dict : dict, shots : int):\n",
    "    \"\"\"\n",
    "        This function compare two types of dictionaries \n",
    "        to compare. \n",
    "        Input:\n",
    "            real_dict : dict ; perfect result.\n",
    "            test_dict : dict ; noise dict.\n",
    "            shots : int : number of shots.\n",
    "        Output: \n",
    "            err : int ; error between the dictionaties.\n",
    "    \"\"\"\n",
    "    err = 0\n",
    "    real_list = list(real_dict.keys())\n",
    "    test_list = list(test_dict.keys())\n",
    "\n",
    "    for i in range(0, len(real_list)):\n",
    "\n",
    "        test_dict.setdefault(real_list[i], 0)\n",
    "        real_dict.setdefault(test_list[i], 0)\n",
    "    \n",
    "    real_list = list(real_dict.keys())\n",
    "    test_list = list(test_dict.keys())\n",
    "\n",
    "    for k in range(0, len(real_list)):\n",
    "        err += np.abs(test_dict[real_list[k]]-real_dict[real_list[k]])\n",
    "    \n",
    "    return err/shots"
   ]
  },
  {
   "cell_type": "code",
   "execution_count": null,
   "metadata": {},
   "outputs": [],
   "source": []
  }
 ],
 "metadata": {
  "kernelspec": {
   "display_name": "Python 3",
   "language": "python",
   "name": "python3"
  },
  "language_info": {
   "codemirror_mode": {
    "name": "ipython",
    "version": 3
   },
   "file_extension": ".py",
   "mimetype": "text/x-python",
   "name": "python",
   "nbconvert_exporter": "python",
   "pygments_lexer": "ipython3",
   "version": "3.9.5"
  }
 },
 "nbformat": 4,
 "nbformat_minor": 2
}
